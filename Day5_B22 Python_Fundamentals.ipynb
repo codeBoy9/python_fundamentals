{
 "cells": [
  {
   "cell_type": "code",
   "execution_count": 1,
   "metadata": {},
   "outputs": [],
   "source": [
    "#Introduction to for loop:"
   ]
  },
  {
   "cell_type": "code",
   "execution_count": 6,
   "metadata": {},
   "outputs": [],
   "source": [
    "wedding_invitation=['anil','raju','sonal','golu','mohan']"
   ]
  },
  {
   "cell_type": "code",
   "execution_count": 3,
   "metadata": {},
   "outputs": [],
   "source": [
    "#requirement is to send invitation to all friends at once : Please come to bless us"
   ]
  },
  {
   "cell_type": "code",
   "execution_count": 19,
   "metadata": {},
   "outputs": [],
   "source": [
    " #dclarind and using temporary variable friends to send invitation"
   ]
  },
  {
   "cell_type": "code",
   "execution_count": 21,
   "metadata": {},
   "outputs": [
    {
     "name": "stdout",
     "output_type": "stream",
     "text": [
      "Please come to bless us,anil\n",
      "Please come to bless us,raju\n",
      "Please come to bless us,sonal\n",
      "Please come to bless us,golu\n",
      "Please come to bless us,mohan\n"
     ]
    }
   ],
   "source": [
    "for friends in wedding_invitation: #dont print the friends variable first, else it will just store the last value which is mohan\n",
    "    print(f\"Please come to bless us,{friends}\")"
   ]
  },
  {
   "cell_type": "code",
   "execution_count": 22,
   "metadata": {},
   "outputs": [
    {
     "name": "stdout",
     "output_type": "stream",
     "text": [
      "mohan\n"
     ]
    }
   ],
   "source": [
    "print (friends)"
   ]
  },
  {
   "cell_type": "code",
   "execution_count": 23,
   "metadata": {},
   "outputs": [],
   "source": [
    "#enhance the code"
   ]
  },
  {
   "cell_type": "code",
   "execution_count": 24,
   "metadata": {},
   "outputs": [
    {
     "name": "stdout",
     "output_type": "stream",
     "text": [
      "Please come to bless us,Anil\n",
      "Please come to bless us,Raju\n",
      "Please come to bless us,Sonal\n",
      "Please come to bless us,Golu\n",
      "Please come to bless us,Mohan\n"
     ]
    }
   ],
   "source": [
    "for friends in wedding_invitation:\n",
    "    print(f\"Please come to bless us,{friends.title()}\")"
   ]
  },
  {
   "cell_type": "code",
   "execution_count": 28,
   "metadata": {},
   "outputs": [
    {
     "name": "stdout",
     "output_type": "stream",
     "text": [
      "Please come to bless us, Anil\n",
      "you are cordially invited\n",
      "\n",
      "Please come to bless us, Raju\n",
      "you are cordially invited\n",
      "\n",
      "Please come to bless us, Sonal\n",
      "you are cordially invited\n",
      "\n",
      "Please come to bless us, Golu\n",
      "you are cordially invited\n",
      "\n",
      "Please come to bless us, Mohan\n",
      "you are cordially invited\n",
      "\n"
     ]
    }
   ],
   "source": [
    "for friends in wedding_invitation:\n",
    "    print(f\"Please come to bless us, {friends.title()}\")\n",
    "    print(f\"you are cordially invited\\n\")"
   ]
  },
  {
   "cell_type": "code",
   "execution_count": 29,
   "metadata": {},
   "outputs": [
    {
     "name": "stdout",
     "output_type": "stream",
     "text": [
      "Please come to bless us, Anil\n",
      "you are cordially invited\n",
      "\n",
      "Please come to bless us, Raju\n",
      "you are cordially invited\n",
      "\n",
      "Please come to bless us, Sonal\n",
      "you are cordially invited\n",
      "\n",
      "Please come to bless us, Golu\n",
      "you are cordially invited\n",
      "\n",
      "Please come to bless us, Mohan\n",
      "you are cordially invited\n",
      "\n",
      "THANK YOU EVERYONE\n"
     ]
    }
   ],
   "source": [
    "for friends in wedding_invitation:\n",
    "    print(f\"Please come to bless us, {friends.title()}\")\n",
    "    print(f\"you are cordially invited\\n\")\n",
    "print('THANK YOU EVERYONE')"
   ]
  },
  {
   "cell_type": "code",
   "execution_count": null,
   "metadata": {},
   "outputs": [],
   "source": []
  },
  {
   "cell_type": "code",
   "execution_count": null,
   "metadata": {},
   "outputs": [],
   "source": []
  },
  {
   "cell_type": "code",
   "execution_count": null,
   "metadata": {},
   "outputs": [],
   "source": []
  },
  {
   "cell_type": "code",
   "execution_count": null,
   "metadata": {},
   "outputs": [],
   "source": []
  },
  {
   "cell_type": "code",
   "execution_count": null,
   "metadata": {},
   "outputs": [],
   "source": []
  }
 ],
 "metadata": {
  "kernelspec": {
   "display_name": "Python 3",
   "language": "python",
   "name": "python3"
  },
  "language_info": {
   "codemirror_mode": {
    "name": "ipython",
    "version": 3
   },
   "file_extension": ".py",
   "mimetype": "text/x-python",
   "name": "python",
   "nbconvert_exporter": "python",
   "pygments_lexer": "ipython3",
   "version": "3.7.6"
  }
 },
 "nbformat": 4,
 "nbformat_minor": 4
}
